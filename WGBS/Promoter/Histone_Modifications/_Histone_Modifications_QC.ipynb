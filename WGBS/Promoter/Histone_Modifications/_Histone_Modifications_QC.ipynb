{
 "cells": [
  {
   "cell_type": "code",
   "execution_count": 1,
   "metadata": {},
   "outputs": [],
   "source": [
    "import pandas as pd\n",
    "import matplotlib.pyplot as plt\n",
    "import seaborn as sns\n",
    "sns.set(font=\"Arial\", font_scale=1, style='ticks')\n",
    "from math import log\n",
    "\n",
    "import os\n",
    "os.chdir(\"I:\\\\SNU2_Backup_20190905\\\\10.Stomach_Cancer_WC300\\\\Newly_added_sample\\\\03.WGBS\\\\GRCh38\\\\Histome_modification_Stomach\")"
   ]
  },
  {
   "cell_type": "code",
   "execution_count": null,
   "metadata": {},
   "outputs": [],
   "source": [
    "h3k4me3 = pd.read_table(\"H3K4me3_ENCFF588TFE.tab\", index_col=0)\n",
    "h3k27ac = pd.read_table(\"H3K27ac_ENCFF910HDI.tab\", index_col=0)\n",
    "h3k27me3 = pd.read_table(\"H3K27me3_ENCFF313RCC.tab\", index_col=0)\n",
    "h3k36me3 = pd.read_table(\"H3K36me3_ENCFF927MLI.tab\", index_col=0)\n",
    "h3k4me1 = pd.read_table(\"H3K4me1_ENCFF712YGW.tab\", index_col=0)\n",
    "h3k9me3 = pd.read_table(\"H3K9me3_ENCFF152CYD.tab\", index_col=0)"
   ]
  },
  {
   "cell_type": "code",
   "execution_count": null,
   "metadata": {},
   "outputs": [],
   "source": [
    "files = [ [h3k4me3, h3k27ac, h3k27me3], [h3k36me3, h3k4me1, h3k9me3] ]\n",
    "names = [ ['H3K4me3', 'H3K27ac', 'H3K27me3'], ['H3K36me3', 'H3K4me1', 'H3K9me3'] ]\n",
    "\n",
    "fig, axes = plt.subplots(2,3, figsize=(10,5), constrained_layout=True)\n",
    "for i in range(2):\n",
    "    for j in range(3):\n",
    "        sns.kdeplot(data=files[i][j], x='qValue', ax=axes[i][j])\n",
    "        # Density value (y) and x axis value of the seaborn kdeplot stored in axes[0][0].get_lines().get_data()[1] and axes[0][0].get_lines().get_data()[1]\n",
    "        axes[i][j].set_title(names[i][j], fontsize='large')\n",
    "        axes[i][j].set_xlabel('-log10(q Value)')\n",
    "        axes[i][j].axvline(x=-log(0.001, 10), ymin=0, ymax=1, color='red', linestyle='--')\n",
    "sns.despine()"
   ]
  },
  {
   "cell_type": "code",
   "execution_count": null,
   "metadata": {},
   "outputs": [],
   "source": [
    "h3k27me3[(10**-h3k27me3['qValue']) < 0.001]\n",
    "\n"
   ]
  }
 ],
 "metadata": {
  "kernelspec": {
   "display_name": "base",
   "language": "python",
   "name": "python3"
  },
  "language_info": {
   "codemirror_mode": {
    "name": "ipython",
    "version": 3
   },
   "file_extension": ".py",
   "mimetype": "text/x-python",
   "name": "python",
   "nbconvert_exporter": "python",
   "pygments_lexer": "ipython3",
   "version": "3.9.13"
  },
  "orig_nbformat": 4,
  "vscode": {
   "interpreter": {
    "hash": "ad2bdc8ecc057115af97d19610ffacc2b4e99fae6737bb82f5d7fb13d2f2c186"
   }
  }
 },
 "nbformat": 4,
 "nbformat_minor": 2
}
